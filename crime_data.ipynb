{
 "cells": [
  {
   "cell_type": "code",
   "execution_count": 1,
   "metadata": {
    "collapsed": true
   },
   "outputs": [],
   "source": [
    "import json\n",
    "import numpy as np\n",
    "import math\n",
    "import random\n",
    "import matplotlib.pyplot as plt\n",
    "%matplotlib inline"
   ]
  },
  {
   "cell_type": "code",
   "execution_count": 7,
   "metadata": {
    "collapsed": true
   },
   "outputs": [],
   "source": [
    "# data from Prof Lafferty's AWS S3, taken from Chicago's Open Data. I load using Spark\n",
    "data = sc.textFile(\"s3n://stat-37601/crime_data.json\", minPartitions=100).map(json.loads)"
   ]
  },
  {
   "cell_type": "code",
   "execution_count": 8,
   "metadata": {
    "collapsed": false
   },
   "outputs": [
    {
     "name": "stdout",
     "output_type": "stream",
     "text": [
      "89484\n"
     ]
    }
   ],
   "source": [
    "data = data.sample(False, 0.1, 1)\n",
    "n = data.count()\n",
    "print n"
   ]
  },
  {
   "cell_type": "code",
   "execution_count": 9,
   "metadata": {
    "collapsed": true
   },
   "outputs": [],
   "source": [
    "# define macros to index into array of attributes\n",
    "ID = 0\n",
    "Unix = 1\n",
    "Year = 2\n",
    "Month = 3\n",
    "Day = 4\n",
    "Hour = 5\n",
    "Type = 6\n",
    "Arrest = 7\n",
    "Domestic = 8\n",
    "Police = 9\n",
    "District = 10\n",
    "Ward = 11\n",
    "Area = 12\n",
    "Lat = 13\n",
    "Longi = 14\n",
    "Name = 15"
   ]
  },
  {
   "cell_type": "markdown",
   "metadata": {},
   "source": [
    "Does the data follow a Poisson distribution? I investigate by plotting the empirical distrubtion of N\n",
    "(k)\n",
    "(s,t),δ(x) for periods where (s, t] corresponds to each of\n",
    "the 52 weeks over the last year, with large enough δ to cover \n",
    "Chicago. Do the data appear to follow a Poisson distribution? What is the rate?"
   ]
  },
  {
   "cell_type": "code",
   "execution_count": 62,
   "metadata": {
    "collapsed": false
   },
   "outputs": [
    {
     "name": "stdout",
     "output_type": "stream",
     "text": [
      "[6325273, 1431906300, 2015, 5, 17, 23, u'CRIMINAL DAMAGE', True, True, 1623, 16, 45, 11, 41.97623563, -87.761572388, u'JEFFERSON PARK']\n"
     ]
    }
   ],
   "source": [
    "test = data.first()\n",
    "print test"
   ]
  },
  {
   "cell_type": "code",
   "execution_count": 11,
   "metadata": {
    "collapsed": false
   },
   "outputs": [
    {
     "name": "stdout",
     "output_type": "stream",
     "text": [
      "(41.84138486260053, -87.6721808656905)\n",
      "0.377929771\n"
     ]
    }
   ],
   "source": [
    "# Compute center = mean and delta = max radius\n",
    "lat_rdd = data.map(lambda x: x[Lat])\n",
    "lat_mean = lat_rdd.reduce(lambda a,b: a+b)/n\n",
    "lat_max = lat_rdd.reduce(lambda a,b: a if (a > b) else b)\n",
    "lat_min = lat_rdd.reduce(lambda a,b: a if (a < b) else b)\n",
    "\n",
    "longi_rdd = data.map(lambda x: x[Longi])\n",
    "longi_mean = longi_rdd.reduce(lambda a,b: a+b)/n\n",
    "longi_max = longi_rdd.reduce(lambda a,b: a if (a > b) else b)\n",
    "longi_min = longi_rdd.reduce(lambda a,b: a if (a < b) else b)\n",
    "\n",
    "center = (lat_mean, longi_mean)\n",
    "delta = max(lat_max-lat_min,longi_max-longi_mean)\n",
    "print center\n",
    "print delta"
   ]
  },
  {
   "cell_type": "code",
   "execution_count": 64,
   "metadata": {
    "collapsed": false
   },
   "outputs": [
    {
     "name": "stdout",
     "output_type": "stream",
     "text": [
      "1335124800\n"
     ]
    }
   ],
   "source": [
    "min_time = data.map(lambda x: x[Unix]).reduce(lambda a,b: a if (a < b) else b)\n",
    "print min_time"
   ]
  },
  {
   "cell_type": "code",
   "execution_count": null,
   "metadata": {
    "collapsed": false
   },
   "outputs": [],
   "source": [
    "# Count if crime satisfies given time and spatial conditions\n",
    "def count(crime, center, delta, year, time_index, period):\n",
    "    distance = math.sqrt((crime[Lat]-center[0])**2+(crime[Longi]-center[1])**2)\n",
    "    \n",
    "    begin_period = (year-1970)*3.15576*10**7\n",
    "    # time_min = Unix Epoch time for beginning year + time_index*number of seconds in a day\n",
    "    time_min = begin_period+time_index*period*86400 \n",
    "    # period is in days\n",
    "    time_max = time_min + period*86400 \n",
    "    \n",
    "    return crime[Unix]>time_min and crime[Unix]<time_max and distance<delta"
   ]
  },
  {
   "cell_type": "code",
   "execution_count": 66,
   "metadata": {
    "collapsed": false
   },
   "outputs": [
    {
     "name": "stdout",
     "output_type": "stream",
     "text": [
      "False\n",
      "True\n"
     ]
    }
   ],
   "source": [
    "print count(test, center, delta, 2014, 0, 7)\n",
    "print count(test, center, delta, 2015, 19, 7)"
   ]
  },
  {
   "cell_type": "code",
   "execution_count": 67,
   "metadata": {
    "collapsed": false,
    "scrolled": true
   },
   "outputs": [
    {
     "name": "stdout",
     "output_type": "stream",
     "text": [
      "26982\n",
      "372\n",
      "489\n",
      "485\n",
      "403\n",
      "519\n",
      "448\n",
      "427\n",
      "424\n",
      "456\n",
      "508\n",
      "510\n",
      "524\n",
      "552\n",
      "541\n",
      "533\n",
      "539\n",
      "502\n",
      "566\n",
      "519\n",
      "556\n",
      "525\n",
      "605\n",
      "558\n",
      "581\n",
      "572\n",
      "621\n",
      "576\n",
      "575\n",
      "556\n",
      "627\n",
      "588\n",
      "585\n",
      "594\n",
      "587\n",
      "587\n",
      "532\n",
      "512\n",
      "558\n",
      "543\n",
      "541\n",
      "446\n",
      "513\n",
      "523\n",
      "535\n",
      "466\n",
      "423\n",
      "422\n",
      "449\n",
      "490\n",
      "442\n",
      "470\n",
      "420\n",
      "[372, 489, 485, 403, 519, 448, 427, 424, 456, 508, 510, 524, 552, 541, 533, 539, 502, 566, 519, 556, 525, 605, 558, 581, 572, 621, 576, 575, 556, 627, 588, 585, 594, 587, 587, 532, 512, 558, 543, 541, 446, 513, 523, 535, 466, 423, 422, 449, 490, 442, 470, 420]\n"
     ]
    }
   ],
   "source": [
    "period = 7 #7 days = 1 week\n",
    "num_counts = 52/(period/7)\n",
    "counts = []\n",
    "data_subset = data.filter(lambda x: x[Year]==2014) # data in 2014\n",
    "print data_subset.count()\n",
    "for i in range(num_counts):\n",
    "    nksum = data_subset.filter(lambda x: count(x, center, delta, 2014, i, period)).count()\n",
    "    print nksum\n",
    "    counts.append(nksum)\n",
    "print counts"
   ]
  },
  {
   "cell_type": "code",
   "execution_count": 68,
   "metadata": {
    "collapsed": false
   },
   "outputs": [
    {
     "name": "stdout",
     "output_type": "stream",
     "text": [
      "Mean rate for one week period is 517\n"
     ]
    }
   ],
   "source": [
    "print \"Mean rate for one week period is %d\" %np.mean(counts)"
   ]
  },
  {
   "cell_type": "markdown",
   "metadata": {},
   "source": [
    "Do the data follow a Poisson distribution?"
   ]
  },
  {
   "cell_type": "code",
   "execution_count": 73,
   "metadata": {
    "collapsed": false
   },
   "outputs": [
    {
     "data": {
      "text/plain": [
       "(0.2845873134455692, 0.00032077556527188023)"
      ]
     },
     "execution_count": 73,
     "metadata": {},
     "output_type": "execute_result"
    }
   ],
   "source": [
    "from scipy import stats\n",
    "stats.kstest(counts, lambda x : stats.poisson.cdf(x, np.mean(counts)))"
   ]
  },
  {
   "cell_type": "code",
   "execution_count": 77,
   "metadata": {
    "collapsed": false
   },
   "outputs": [
    {
     "name": "stdout",
     "output_type": "stream",
     "text": [
      "Chi squared test summary:\n",
      "method: pearson\n",
      "degrees of freedom = 51 \n",
      "statistic = 372.9164156906487 \n",
      "pValue = 0.0 \n",
      "Very strong presumption against null hypothesis: observed follows the same distribution as expected..\n"
     ]
    }
   ],
   "source": [
    "from pyspark.mllib.stat import Statistics\n",
    "goodnessOfFitTestResult = Statistics.chiSqTest(counts) \n",
    "print goodnessOfFitTestResult"
   ]
  },
  {
   "cell_type": "markdown",
   "metadata": {},
   "source": [
    "From the Kolmogorov-Smirnov test for goodness of fit test and chi-squared test, it appears that the data does not follow the Poisson distribution."
   ]
  },
  {
   "cell_type": "code",
   "execution_count": 13,
   "metadata": {
    "collapsed": false
   },
   "outputs": [
    {
     "data": {
      "image/png": "[encoded data removed]",
      "text/plain": [
       "<matplotlib.figure.Figure at 0x7fd517201f50>"
      ]
     },
     "metadata": {},
     "output_type": "display_data"
    }
   ],
   "source": [
    "%matplotlib inline\n",
    "plt.hist(counts)\n",
    "plt.title(\"Histogram for all Crimes By Week\")\n",
    "plt.xlabel(\"Count\")\n",
    "plt.ylabel(\"Frequency\")\n",
    "plt.show()"
   ]
  },
  {
   "cell_type": "markdown",
   "metadata": {},
   "source": [
    "Do the rates of the crimes scale approximately linearly as you increase or decrease the time\n",
    "period (i.e. t − s)? "
   ]
  },
  {
   "cell_type": "code",
   "execution_count": 25,
   "metadata": {
    "collapsed": true
   },
   "outputs": [],
   "source": [
    "rates = [(7, np.mean(counts))]"
   ]
  },
  {
   "cell_type": "code",
   "execution_count": 26,
   "metadata": {
    "collapsed": false
   },
   "outputs": [
    {
     "name": "stdout",
     "output_type": "stream",
     "text": [
      "[827, 890, 851, 874, 924, 884, 934, 974, 981, 1015, 1013, 1069, 1066, 1030, 1045, 1021, 1047, 1075, 1053, 1076, 1167, 1188, 1147, 1147, 1157, 1216, 827, 890, 851, 874, 924, 884, 934, 974, 981, 1015, 1013, 1069, 1066, 1030, 1045, 1021, 1047, 1075, 1053, 1076, 1167, 1188, 1147, 1147, 1157, 1216]\n"
     ]
    }
   ],
   "source": [
    "# 2 weeks\n",
    "counts_2 = []\n",
    "for i in range(num_counts/2)*2:\n",
    "    counts_2.append(counts[i]+counts[i+1])\n",
    "print counts_2\n",
    "rates.append((14,np.mean(counts_2)))"
   ]
  },
  {
   "cell_type": "code",
   "execution_count": 27,
   "metadata": {
    "collapsed": false
   },
   "outputs": [
    {
     "name": "stdout",
     "output_type": "stream",
     "text": [
      "[1272, 1296, 1319, 1330, 1352, 1390, 1402, 1487, 1483, 1526, 1571, 1577, 1588, 1553, 1543, 1570, 1573, 1272, 1296, 1319, 1330, 1352, 1390, 1402, 1487, 1483, 1526, 1571, 1577, 1588, 1553, 1543, 1570, 1573, 1272, 1296, 1319, 1330, 1352, 1390, 1402, 1487, 1483, 1526, 1571, 1577, 1588, 1553, 1543, 1570, 1573]\n"
     ]
    }
   ],
   "source": [
    "# 3 weeks\n",
    "counts_3 = []\n",
    "for i in range(num_counts/3)*3:\n",
    "    counts_3.append(counts[i]+counts[i+1]+counts[i+2])\n",
    "print counts_3\n",
    "rates.append((21,np.mean(counts_3)))"
   ]
  },
  {
   "cell_type": "code",
   "execution_count": 28,
   "metadata": {
    "collapsed": false
   },
   "outputs": [
    {
     "name": "stdout",
     "output_type": "stream",
     "text": [
      "[1678, 1764, 1775, 1758, 1858, 1858, 1915, 1989, 1994, 2084, 2079, 2099, 2111, 1678, 1764, 1775, 1758, 1858, 1858, 1915, 1989, 1994, 2084, 2079, 2099, 2111, 1678, 1764, 1775, 1758, 1858, 1858, 1915, 1989, 1994, 2084, 2079, 2099, 2111, 1678, 1764, 1775, 1758, 1858, 1858, 1915, 1989, 1994, 2084, 2079, 2099, 2111]\n"
     ]
    }
   ],
   "source": [
    "# 4 weeks\n",
    "counts_4 = []\n",
    "for i in range(num_counts/4)*4:\n",
    "    counts_4.append(counts[i]+counts[i+1]+counts[i+2]+counts[i+3])\n",
    "print counts_4\n",
    "rates.append((28,np.mean(counts_4)))"
   ]
  },
  {
   "cell_type": "code",
   "execution_count": 29,
   "metadata": {
    "collapsed": false
   },
   "outputs": [
    {
     "name": "stdout",
     "output_type": "stream",
     "text": [
      "[(7, 515.65384615384619), (14, 1025.8076923076924), (21, 1460.7058823529412), (28, 1920.1538461538462)]\n"
     ]
    }
   ],
   "source": [
    "print rates"
   ]
  },
  {
   "cell_type": "code",
   "execution_count": 30,
   "metadata": {
    "collapsed": false
   },
   "outputs": [
    {
     "data": {
      "image/png": "[encoded data removed]",
      "text/plain": [
       "<matplotlib.figure.Figure at 0x7fd516dd82d0>"
      ]
     },
     "metadata": {},
     "output_type": "display_data"
    }
   ],
   "source": [
    "# Plot rates for varying time period\n",
    "plt.scatter(*zip(*rates))\n",
    "plt.xlabel('Time period in days')\n",
    "plt.ylabel('Rate')\n",
    "plt.show()"
   ]
  },
  {
   "cell_type": "markdown",
   "metadata": {},
   "source": [
    "There appears to be a roughly linear relationship between the rate and time period."
   ]
  },
  {
   "cell_type": "code",
   "execution_count": 90,
   "metadata": {
    "collapsed": true
   },
   "outputs": [],
   "source": [
    "delta = 0.378038507 #max distance between two crime points"
   ]
  },
  {
   "cell_type": "code",
   "execution_count": 91,
   "metadata": {
    "collapsed": false
   },
   "outputs": [
    {
     "name": "stdout",
     "output_type": "stream",
     "text": [
      "[9929, 10247]\n"
     ]
    }
   ],
   "source": [
    "# Plot rates for varying radiuses\n",
    "period = 182 \n",
    "num_counts = 52/(period/7)\n",
    "counts_d2 = []\n",
    "delta = delta/3\n",
    "for i in range(num_counts):\n",
    "    nksum = data.filter(lambda x: count(x, center, delta, 2014, i, period)).count()\n",
    "    counts_d2.append(nksum)\n",
    "print counts_d2\n",
    "rates_delta = [(delta, np.mean(counts_d2))]"
   ]
  },
  {
   "cell_type": "code",
   "execution_count": 92,
   "metadata": {
    "collapsed": false
   },
   "outputs": [
    {
     "name": "stdout",
     "output_type": "stream",
     "text": [
      "[3287, 3451]\n"
     ]
    }
   ],
   "source": [
    "counts_d3 = []\n",
    "delta = delta/2\n",
    "for i in range(num_counts):\n",
    "    nksum = data.filter(lambda x: count(x, center, delta, 2014, i, period)).count()\n",
    "    counts_d3.append(nksum)\n",
    "print counts_d3\n",
    "rates_delta.append((delta, np.mean(counts_d3)))"
   ]
  },
  {
   "cell_type": "code",
   "execution_count": 93,
   "metadata": {
    "collapsed": false
   },
   "outputs": [
    {
     "name": "stdout",
     "output_type": "stream",
     "text": [
      "[1039, 1057]\n"
     ]
    }
   ],
   "source": [
    "counts_d4 = []\n",
    "delta = delta/1.5\n",
    "for i in range(num_counts):\n",
    "    nksum = data.filter(lambda x: count(x, center, delta, 2014, i, period)).count()\n",
    "    counts_d4.append(nksum)\n",
    "print counts_d4\n",
    "rates_delta.append((delta, np.mean(counts_d4)))"
   ]
  },
  {
   "cell_type": "code",
   "execution_count": 94,
   "metadata": {
    "collapsed": false
   },
   "outputs": [
    {
     "name": "stdout",
     "output_type": "stream",
     "text": [
      "[349, 353]\n"
     ]
    }
   ],
   "source": [
    "counts_d5 = []\n",
    "delta = delta/1.5\n",
    "for i in range(num_counts):\n",
    "    nksum = data.filter(lambda x: count(x, center, delta, 2014, i, period)).count()\n",
    "    counts_d5.append(nksum)\n",
    "print counts_d5\n",
    "rates_delta.append((delta, np.mean(counts_d5)))"
   ]
  },
  {
   "cell_type": "code",
   "execution_count": 95,
   "metadata": {
    "collapsed": false
   },
   "outputs": [
    {
     "name": "stdout",
     "output_type": "stream",
     "text": [
      "[160, 149]\n"
     ]
    }
   ],
   "source": [
    "counts_d6 = []\n",
    "delta = delta/1.5\n",
    "for i in range(num_counts):\n",
    "    nksum = data.filter(lambda x: count(x, center, delta, 2014, i, period)).count()\n",
    "    counts_d6.append(nksum)\n",
    "print counts_d6\n",
    "rates_delta.append((delta, np.mean(counts_d6)))"
   ]
  },
  {
   "cell_type": "code",
   "execution_count": 96,
   "metadata": {
    "collapsed": false,
    "scrolled": false
   },
   "outputs": [
    {
     "name": "stdout",
     "output_type": "stream",
     "text": [
      "[[0.015879234752754344, 0.003969808688188586, 0.0017643594169727047, 0.0007841597408767575, 0.00034851544038966997], (10088.0, 3369.0, 1048.0, 351.0, 154.5)]\n"
     ]
    },
    {
     "data": {
      "image/png": "[encoded data removed]",
      "text/plain": [
       "<matplotlib.figure.Figure at 0x7fd5170f3190>"
      ]
     },
     "metadata": {},
     "output_type": "display_data"
    },
    {
     "data": {
      "image/png": "[encoded data removed]",
      "text/plain": [
       "<matplotlib.figure.Figure at 0x7fd51714b290>"
      ]
     },
     "metadata": {},
     "output_type": "display_data"
    }
   ],
   "source": [
    "# Plot rates for varying time period\n",
    "rates_deltas = zip(*(rates_delta))\n",
    "rates_deltas[0] = [i**2 for i in rates_deltas[0]]\n",
    "print rates_deltas\n",
    "plt.scatter(*rates_deltas)\n",
    "plt.xlabel('Radius^2')\n",
    "plt.ylabel('Rate')\n",
    "plt.show()\n",
    "plt.scatter(*zip(*(rates_delta)))\n",
    "plt.xlabel('Radius')\n",
    "plt.ylabel('Rate')\n",
    "plt.show()"
   ]
  },
  {
   "cell_type": "markdown",
   "metadata": {},
   "source": [
    "When we first plotted the radius versus rate plot, there was a plateauing at larger radiuses and this can be explained by the non circular shape of the city. That is, when using radius = delta = maximum distance between two crime points, much of the outer region of the area we are considering will be outside the city limits and won't have any crime recorded at all. Therefore, the largest radius we use in the plot is delta/3, where we assume that the a circle around the center with radius delta/3 will be within the city limits. From the plots above, we see that the rate is roughly linearly proportional to the radius^2 as expected (number of crimes will increase linearly with area)."
   ]
  },
  {
   "cell_type": "code",
   "execution_count": 135,
   "metadata": {
    "collapsed": true
   },
   "outputs": [],
   "source": [
    "center = (41.84117892982315, -87.67203843791644)\n",
    "delta = 0.378038507/3/2/1.5/1.5"
   ]
  },
  {
   "cell_type": "code",
   "execution_count": 138,
   "metadata": {
    "collapsed": false
   },
   "outputs": [
    {
     "name": "stdout",
     "output_type": "stream",
     "text": [
      "[580, 611]\n"
     ]
    }
   ],
   "source": [
    "# Plot rates for varying locations in latitude direction, fixing longitude\n",
    "period = 182 \n",
    "center = (center[0]+0.05, center[1])\n",
    "num_counts = 52/(period/7)\n",
    "counts_loc2 = []\n",
    "for i in range(num_counts):\n",
    "    nksum = data.filter(lambda x: count(x, center, delta, 2014, i, period)).count()\n",
    "    counts_loc2.append(nksum)\n",
    "print counts_loc2\n",
    "rates_loc = [(center[0], np.mean(counts_loc2))]"
   ]
  },
  {
   "cell_type": "code",
   "execution_count": 139,
   "metadata": {
    "collapsed": false
   },
   "outputs": [
    {
     "name": "stdout",
     "output_type": "stream",
     "text": [
      "[583, 600]\n"
     ]
    }
   ],
   "source": [
    "center = (center[0]+0.005, center[1])\n",
    "num_counts = 52/(period/7)\n",
    "counts_loc3 = []\n",
    "for i in range(num_counts):\n",
    "    nksum = data.filter(lambda x: count(x, center, delta, 2014, i, period)).count()\n",
    "    counts_loc3.append(nksum)\n",
    "print counts_loc3\n",
    "rates_loc.append((center[0], np.mean(counts_loc3)))"
   ]
  },
  {
   "cell_type": "code",
   "execution_count": 140,
   "metadata": {
    "collapsed": false
   },
   "outputs": [
    {
     "name": "stdout",
     "output_type": "stream",
     "text": [
      "[572, 602]\n"
     ]
    }
   ],
   "source": [
    "center = (center[0]-0.01, center[1])\n",
    "num_counts = 52/(period/7)\n",
    "counts_loc4 = []\n",
    "for i in range(num_counts):\n",
    "    nksum = data.filter(lambda x: count(x, center, delta, 2014, i, period)).count()\n",
    "    counts_loc4.append(nksum)\n",
    "print counts_loc4\n",
    "rates_loc.append((center[0], np.mean(counts_loc4)))"
   ]
  },
  {
   "cell_type": "code",
   "execution_count": 141,
   "metadata": {
    "collapsed": false
   },
   "outputs": [
    {
     "name": "stdout",
     "output_type": "stream",
     "text": [
      "[609, 616]\n"
     ]
    }
   ],
   "source": [
    "center = (center[0]-0.005, center[1])\n",
    "num_counts = 52/(period/7)\n",
    "counts_loc5 = []\n",
    "for i in range(num_counts):\n",
    "    nksum = data.filter(lambda x: count(x, center, delta, 2014, i, period)).count()\n",
    "    counts_loc5.append(nksum)\n",
    "print counts_loc5\n",
    "rates_loc.append((center[0], np.mean(counts_loc5)))"
   ]
  },
  {
   "cell_type": "code",
   "execution_count": 145,
   "metadata": {
    "collapsed": false
   },
   "outputs": [
    {
     "data": {
      "image/png": "[encoded data removed]",
      "text/plain": [
       "<matplotlib.figure.Figure at 0x7fd51698c450>"
      ]
     },
     "metadata": {},
     "output_type": "display_data"
    }
   ],
   "source": [
    "# Plot rates for different centers\n",
    "plt.scatter(*zip(*(rates_loc)))\n",
    "plt.xlabel('Latitude')\n",
    "plt.ylabel('Rate')\n",
    "plt.ylim((0,800))\n",
    "plt.show()"
   ]
  },
  {
   "cell_type": "markdown",
   "metadata": {},
   "source": [
    "The crime rate appears to be roughly uniform at different centers"
   ]
  },
  {
   "cell_type": "markdown",
   "metadata": {},
   "source": [
    "Attempt and analysis of trying to fit a Poisson model to the data:"
   ]
  },
  {
   "cell_type": "code",
   "execution_count": 5,
   "metadata": {
    "collapsed": false
   },
   "outputs": [
    {
     "data": {
      "text/plain": [
       "80447"
      ]
     },
     "execution_count": 5,
     "metadata": {},
     "output_type": "execute_result"
    }
   ],
   "source": [
    "# estimate poisson model, train on 2010-2014; first find lambda\n",
    "train_set = data.filter(lambda x: x[Year]==2014 or x[Year]==2013 or x[Year]==2012 or x[Year]==2010)\n",
    "train_set.count()"
   ]
  },
  {
   "cell_type": "code",
   "execution_count": 6,
   "metadata": {
    "collapsed": false,
    "scrolled": false
   },
   "outputs": [
    {
     "data": {
      "text/plain": [
       "[6230758,\n",
       " 1420068420,\n",
       " 2014,\n",
       " 12,\n",
       " 31,\n",
       " 23,\n",
       " u'LIQUOR LAW VIOLATION',\n",
       " True,\n",
       " True,\n",
       " 111,\n",
       " 1,\n",
       " 42,\n",
       " 32,\n",
       " 41.886490925,\n",
       " -87.624678141,\n",
       " u'LOOP']"
      ]
     },
     "execution_count": 6,
     "metadata": {},
     "output_type": "execute_result"
    }
   ],
   "source": [
    "train_set.first()"
   ]
  },
  {
   "cell_type": "code",
   "execution_count": 26,
   "metadata": {
    "collapsed": false
   },
   "outputs": [
    {
     "data": {
      "text/plain": [
       "148.41315910257674"
      ]
     },
     "execution_count": 26,
     "metadata": {},
     "output_type": "execute_result"
    }
   ],
   "source": [
    "import math\n",
    "import numpy as np\n",
    "def gauss_kernel(x, y):\n",
    "    u = np.subtract(x, y)\n",
    "    b = math.sqrt(2*math.pi)\n",
    "    w = np.zeros(len(u))\n",
    "    for i in range(len(u)):\n",
    "        w = math.exp(0.5 * math.pow(np.linalg.norm(u), 2))         \n",
    "    return w\n",
    "gauss_kernel([5, 2], [2,1])    "
   ]
  },
  {
   "cell_type": "code",
   "execution_count": 82,
   "metadata": {
    "collapsed": false
   },
   "outputs": [],
   "source": [
    "# s is the center?\n",
    "# lambda_s = sum over i, j[K(si, s) Nij]\n",
    "#          / sum over i, j[k(si, s) * tij * A\n",
    "# Process is poisson w/ rate lambda_s * A\n",
    "def trainPoisson(train, center, delta):\n",
    "    lambda_top = 0.0\n",
    "    lambda_bottom = 0.0\n",
    "    A = delta * delta * math.pi\n",
    "    # earliest data is from 2012\n",
    "    for year in [2012, 2013, 2014]:\n",
    "        periods = [21.0]\n",
    "        for period in periods:\n",
    "            num_counts = int(52/(period/7))\n",
    "            for i in range(num_counts):\n",
    "                valid = train.filter(lambda x: count(x, center, delta, year, i, period))\n",
    "                if valid.count() == 0:\n",
    "                    pass\n",
    "                else:\n",
    "                    kernel_sum = valid.map(lambda x: gauss_kernel((x[Lat],x[Longi]), center))\n",
    "                    kernel_sum.first()\n",
    "                    kernel_sum = kernel_sum.reduce(lambda a, b: a+b)\n",
    "                    lambda_top += kernel_sum\n",
    "                    distinct_pts = valid.map(lambda x: (x[Lat],x[Longi])).distinct()\n",
    "                    bottom_sum = distinct_pts.map(lambda x: gauss_kernel(x, center)).reduce(lambda a, b: a+b)\n",
    "                    bottom_sum = bottom_sum * period * A\n",
    "                    lambda_bottom += bottom_sum\n",
    "    P_lambda = lambda_top / lambda_bottom\n",
    "        \n",
    "    return P_lambda"
   ]
  },
  {
   "cell_type": "markdown",
   "metadata": {},
   "source": [
    "a few estimates for lambda based on 2010-2014 data:"
   ]
  },
  {
   "cell_type": "code",
   "execution_count": 48,
   "metadata": {
    "collapsed": false
   },
   "outputs": [],
   "source": [
    "# LARGE AREA, period is 182 days\n",
    "actual_center = (41.84117892982315, -87.67203843791644)\n",
    "max_delta = 0.378038507\n",
    "\n",
    "test_lambda = trainPoisson(train_set, actual_center, max_delta)"
   ]
  },
  {
   "cell_type": "code",
   "execution_count": 1,
   "metadata": {
    "collapsed": false
   },
   "outputs": [
    {
     "data": {
      "text/plain": [
       "12546.2749602814"
      ]
     },
     "execution_count": 1,
     "metadata": {},
     "output_type": "execute_result"
    }
   ],
   "source": [
    "test_lambda * 365"
   ]
  },
  {
   "cell_type": "code",
   "execution_count": 63,
   "metadata": {
    "collapsed": false
   },
   "outputs": [
    {
     "data": {
      "text/plain": [
       "0.006062938448227665"
      ]
     },
     "execution_count": 63,
     "metadata": {},
     "output_type": "execute_result"
    }
   ],
   "source": [
    "# SMALL AREA - is this estimate better or worse?\n",
    "actual_center = (41.84117892982315, -87.67203843791644)\n",
    "delta_5 = 0.05\n",
    "\n",
    "test_lambda_2 = trainPoisson(train_set, actual_center, delta_5)\n",
    "\n",
    "A = delta_5 * delta_5 * math.pi\n",
    "test_lambda_2 * A"
   ]
  },
  {
   "cell_type": "code",
   "execution_count": 2,
   "metadata": {
    "collapsed": false
   },
   "outputs": [
    {
     "data": {
      "text/plain": [
       "21496.29385023"
      ]
     },
     "execution_count": 2,
     "metadata": {},
     "output_type": "execute_result"
    }
   ],
   "source": [
    "test_lambda_2 * 365"
   ]
  },
  {
   "cell_type": "code",
   "execution_count": null,
   "metadata": {
    "collapsed": false
   },
   "outputs": [],
   "source": [
    "# changed period to 21, small area\n",
    "test_lambda_3 = trainPoisson(train_set, actual_center, delta_5)\n",
    "A = delta_5 * delta_5 * math.pi\n",
    "test_lambda_3 * A"
   ]
  },
  {
   "cell_type": "code",
   "execution_count": 3,
   "metadata": {
    "collapsed": false
   },
   "outputs": [
    {
     "data": {
      "text/plain": [
       "9037"
      ]
     },
     "execution_count": 3,
     "metadata": {},
     "output_type": "execute_result"
    }
   ],
   "source": [
    "data.filter(lambda x: x[Year] == 2015).count()"
   ]
  },
  {
   "cell_type": "markdown",
   "metadata": {},
   "source": [
    "The model trained on 2012-2014 is not a great model for predicting crimes in 2015 using the parameters above. By using more data, the model better approximates the train data, but that does not reflect the 2015 data, which has a lower rate than other years. Thus including more data did not necessarily improve the model. "
   ]
  },
  {
   "cell_type": "markdown",
   "metadata": {},
   "source": [
    "<b>Part 2</b> We use k-means clustering to cluster the neighborhoods based on the crime rate proportions. First, we find the crime rates for each crime type in every neighborhood. Then we divided the crime rates by the total number of crimes in each neighborhood to get the crime rate proportions. We then cluster the neighborhoods based on the crime rate proportions, using 15 clusters. The neighborhoods are labeled with their cluster number. We see that neighborhoods next to each other do tend to be grouped in the same clusters, such as neighborhoods in the South Side (cluster = 0)"
   ]
  },
  {
   "cell_type": "code",
   "execution_count": null,
   "metadata": {
    "collapsed": true
   },
   "outputs": [],
   "source": [
    "import json\n",
    "import urllib2\n",
    "from matplotlib.path import Path\n",
    "\n",
    "communities = json.load(urllib2.urlopen(\"https://s3.amazonaws.com/stat-37601/communities.json\"))\n",
    "\n",
    "def get_community_of(lat, lon):\n",
    "    for community in communities:\n",
    "        path = Path(community['coordinates'])\n",
    "        if path.contains_point([lon, lat]):\n",
    "            return community['name']"
   ]
  },
  {
   "cell_type": "code",
   "execution_count": 17,
   "metadata": {
    "collapsed": false
   },
   "outputs": [
    {
     "data": {
      "text/plain": [
       "u'LOWER WEST SIDE'"
      ]
     },
     "execution_count": 17,
     "metadata": {},
     "output_type": "execute_result"
    }
   ],
   "source": [
    "get_community_of(center[0],center[1])"
   ]
  },
  {
   "cell_type": "code",
   "execution_count": 18,
   "metadata": {
    "collapsed": false
   },
   "outputs": [],
   "source": [
    "import collections"
   ]
  },
  {
   "cell_type": "code",
   "execution_count": 19,
   "metadata": {
    "collapsed": false
   },
   "outputs": [],
   "source": [
    "comm_rdd = data.map(lambda x: (get_community_of(x[Lat],x[Longi]), x[Type]))\n",
    "comm_list = comm_rdd.collect()"
   ]
  },
  {
   "cell_type": "code",
   "execution_count": 20,
   "metadata": {
    "collapsed": false
   },
   "outputs": [],
   "source": [
    "# type_set is list of crime types\n",
    "type_list = [x[1] for x in comm_list]\n",
    "type_set = set(type_list)"
   ]
  },
  {
   "cell_type": "code",
   "execution_count": 21,
   "metadata": {
    "collapsed": false
   },
   "outputs": [],
   "source": [
    "# name_set is list of neighborhood names\n",
    "name_list = [x[0] for x in comm_list]\n",
    "name_set = set(name_list)"
   ]
  },
  {
   "cell_type": "code",
   "execution_count": 22,
   "metadata": {
    "collapsed": false
   },
   "outputs": [
    {
     "name": "stdout",
     "output_type": "stream",
     "text": [
      "(u'CALUMET HEIGHTS', [0.0, 0.0, 0.0, 0.008620689655172414, 0.0, 0.0, 0.0, 0.040948275862068964, 0.08836206896551724, 0.01939655172413793, 0.0, 0.0, 0.06465517241379311, 0.14655172413793102, 0.24568965517241378, 0.004310344827586207, 0.0, 0.0, 0.0, 0.0, 0.036637931034482756, 0.0021551724137931034, 0.0, 0.0, 0.04741379310344827, 0.16379310344827586, 0.0, 0.004310344827586207, 0.05818965517241379, 0.0625, 0.00646551724137931, 0.0])\n"
     ]
    }
   ],
   "source": [
    "# Create a dictionary for each neighborhood, then get proportional counts for each neighborhood\n",
    "counter_list = []\n",
    "for name in name_set:\n",
    "    total = 0\n",
    "    counts = {key: int(0) for key in type_set}\n",
    "    for crime in comm_list:\n",
    "        if crime[0] == name:\n",
    "            counts[crime[1]]+=1\n",
    "            total = total+1\n",
    "    proportions = [float(x)/total for x in counts.values()]\n",
    "    counter_list.append((name, proportions))\n",
    "print counter_list[0]"
   ]
  },
  {
   "cell_type": "markdown",
   "metadata": {},
   "source": [
    "Cluster crime proportions with k-means"
   ]
  },
  {
   "cell_type": "code",
   "execution_count": 23,
   "metadata": {
    "collapsed": false
   },
   "outputs": [],
   "source": [
    "from pyspark.mllib.clustering import KMeans\n",
    "counter_rdd = sc.parallelize(counter_list)\n",
    "clusters = KMeans.train(counter_rdd.map(lambda x: x[1]), 15, maxIterations=50, runs=10, initializationMode=\"random\")"
   ]
  },
  {
   "cell_type": "code",
   "execution_count": 30,
   "metadata": {
    "collapsed": false
   },
   "outputs": [],
   "source": [
    "labels = counter_rdd.map(lambda x: (x[0], clusters.predict(x[1]))).collect()\n",
    "#print labels"
   ]
  },
  {
   "cell_type": "code",
   "execution_count": 25,
   "metadata": {
    "collapsed": false,
    "scrolled": true
   },
   "outputs": [
    {
     "name": "stdout",
     "output_type": "stream",
     "text": [
      "[(0,\n",
      "  [u'SOUTH LAWNDALE',\n",
      "   u'ROSELAND',\n",
      "   u'CHICAGO LAWN',\n",
      "   u'SOUTH SHORE',\n",
      "   u'RIVERDALE',\n",
      "   u'AUBURN GRESHAM',\n",
      "   u'SOUTH CHICAGO',\n",
      "   u'ENGLEWOOD',\n",
      "   u'WASHINGTON PARK',\n",
      "   u'WEST PULLMAN',\n",
      "   u'GRAND BOULEVARD',\n",
      "   u'WEST ENGLEWOOD',\n",
      "   u'WOODLAWN',\n",
      "   u'GREATER GRAND CROSSING',\n",
      "   u'NEW CITY']),\n",
      " (1, [u'BEVERLY', u'MOUNT GREENWOOD', u'NORTH PARK', u'FOREST GLEN']),\n",
      " (2,\n",
      "  [u'HUMBOLDT PARK',\n",
      "   u'WEST GARFIELD PARK',\n",
      "   u'NORTH LAWNDALE',\n",
      "   u'EAST GARFIELD PARK',\n",
      "   u'AUSTIN']),\n",
      " (3, [None]),\n",
      " (4, [u'NEAR NORTH SIDE', u'LOOP']),\n",
      " (5,\n",
      "  [u'EAST SIDE',\n",
      "   u'HEGEWISCH',\n",
      "   u'LOWER WEST SIDE',\n",
      "   u'ALBANY PARK',\n",
      "   u'PULLMAN',\n",
      "   u'HERMOSA',\n",
      "   u'BRIGHTON PARK',\n",
      "   u'OAKLAND',\n",
      "   u'GAGE PARK']),\n",
      " (6,\n",
      "  [u'CALUMET HEIGHTS',\n",
      "   u'IRVING PARK',\n",
      "   u'AVONDALE',\n",
      "   u'ASHBURN',\n",
      "   u'BRIDGEPORT',\n",
      "   u'EDISON PARK',\n",
      "   u'CLEARING',\n",
      "   u'GARFIELD RIDGE',\n",
      "   u'DUNNING',\n",
      "   u'WEST ELSDON']),\n",
      " (7, [u'DOUGLAS', u'UPTOWN', u'CHATHAM', u'FULLER PARK', u'ARMOUR SQUARE']),\n",
      " (8,\n",
      "  [u'LINCOLN SQUARE',\n",
      "   u'KENWOOD',\n",
      "   u'ARCHER HEIGHTS',\n",
      "   u'LOGAN SQUARE',\n",
      "   u'JEFFERSON PARK',\n",
      "   u'EDGEWATER',\n",
      "   u'MONTCLARE',\n",
      "   u'MCKINLEY PARK']),\n",
      " (9,\n",
      "  [u'LAKE VIEW',\n",
      "   u'NEAR WEST SIDE',\n",
      "   u'NORTH CENTER',\n",
      "   u'HYDE PARK',\n",
      "   u'WEST TOWN',\n",
      "   u'WEST LAWN']),\n",
      " (10, [u'NEAR SOUTH SIDE']),\n",
      " (11, [u'LINCOLN PARK']),\n",
      " (12,\n",
      "  [u'ROGERS PARK',\n",
      "   u'AVALON PARK',\n",
      "   u'NORWOOD PARK',\n",
      "   u'PORTAGE PARK',\n",
      "   u'SOUTH DEERING',\n",
      "   u'WASHINGTON HEIGHTS',\n",
      "   u'WEST RIDGE',\n",
      "   u'BELMONT CRAGIN',\n",
      "   u'MORGAN PARK']),\n",
      " (13, [u'OHARE']),\n",
      " (14, [u'BURNSIDE'])]\n"
     ]
    }
   ],
   "source": [
    "from collections import defaultdict\n",
    "label_groups = defaultdict(list)\n",
    "for v, k in labels: \n",
    "    label_groups[k].append(v)\n",
    "    \n",
    "import pprint\n",
    "pprint.pprint(label_groups.items())"
   ]
  },
  {
   "cell_type": "markdown",
   "metadata": {},
   "source": [
    "Create KML file (using code provided)"
   ]
  },
  {
   "cell_type": "code",
   "execution_count": 26,
   "metadata": {
    "collapsed": true
   },
   "outputs": [],
   "source": [
    "# KML downloaded from : https://data.cityofchicago.org/Facilities-Geographic-Boundaries/Boundaries-Community-Areas-current-/cauq-8yn6\n",
    "# KML to JSON converted at : http://ogre.adc4gis.com/\n",
    "# communities.json has been postprocessed to remove irrelevant fields/data\n",
    "import json;\n",
    "from matplotlib.path import Path;\n",
    "with open('communities.json') as infile:\n",
    "    communities=json.load(infile);\n",
    "def getCommunityName(lat, lng, communities):\n",
    "    'Assumption: (lat,lng) is not out of scope'\n",
    "    for i in range(len(communities)):\n",
    "        path=Path(communities[i]['coordinates']);\n",
    "        # Path requires points to be ordered along the boundary of the polygon.\n",
    "        if(path.contains_point([lng,lat])):\n",
    "            return communities[i]['name'];\n",
    "    return 'OUTSIDE';"
   ]
  },
  {
   "cell_type": "code",
   "execution_count": 27,
   "metadata": {
    "collapsed": true
   },
   "outputs": [],
   "source": [
    "# Original KML file with colors downloaded from http://reallyboring.net/?page_id=16\n",
    "import xml.etree.ElementTree as ET\n",
    "ET.register_namespace(\"\",\"http://www.opengis.net/kml/2.2\")\n",
    "tree = ET.parse('communities.kml')\n",
    "root = tree.getroot()[0]\n",
    "def fillCommunityHovertext(name, text):\n",
    "    for placemark in root.iter('{http://www.opengis.net/kml/2.2}Placemark'):\n",
    "        if placemark[0].text == name : # corresponds to tag 'name'\n",
    "            placemark[1].text = text; # corresponds to tag 'description'"
   ]
  },
  {
   "cell_type": "code",
   "execution_count": 29,
   "metadata": {
    "collapsed": false
   },
   "outputs": [],
   "source": [
    "for item in labels:\n",
    "    fillCommunityHovertext(str(item[0]),str(item[1]));\n",
    "    tree.write('communities_updated.kml','UTF-8')"
   ]
  }
 ],
 "metadata": {
  "kernelspec": {
   "display_name": "Python 2",
   "language": "python",
   "name": "python2"
  },
  "language_info": {
   "codemirror_mode": {
    "name": "ipython",
    "version": 2
   },
   "file_extension": ".py",
   "mimetype": "text/x-python",
   "name": "python",
   "nbconvert_exporter": "python",
   "pygments_lexer": "ipython2",
   "version": "2.7.9"
  }
 },
 "nbformat": 4,
 "nbformat_minor": 0
}
